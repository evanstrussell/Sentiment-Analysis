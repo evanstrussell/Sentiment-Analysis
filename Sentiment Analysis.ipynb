{
 "cells": [
  {
   "cell_type": "markdown",
   "id": "9d209c58",
   "metadata": {},
   "source": [
    "# Sentiment Analysis:\n",
    "## This Notebook works off of example HR data found here: https://www.kaggle.com/code/fiodarryzhykau/sentiment-analysis-of-employee-review-classic-ml/notebook\n",
    "## The dataset contains the feedback text and two scores for each employee (performance and potential, both graded 0-2 or low, medium, high). To treat this multi-class text classification, we analyze the sentiment of feedback and relate it to both. \n",
    "# "
   ]
  },
  {
   "cell_type": "code",
   "execution_count": 19,
   "id": "18d72cac",
   "metadata": {},
   "outputs": [
    {
     "name": "stderr",
     "output_type": "stream",
     "text": [
      "[nltk_data] Downloading package punkt_tab to\n",
      "[nltk_data]     C:\\Users\\esrussel\\AppData\\Roaming\\nltk_data...\n",
      "[nltk_data]   Package punkt_tab is already up-to-date!\n",
      "[nltk_data] Downloading package stopwords to\n",
      "[nltk_data]     C:\\Users\\esrussel\\AppData\\Roaming\\nltk_data...\n",
      "[nltk_data]   Package stopwords is already up-to-date!\n",
      "[nltk_data] Downloading package wordnet to\n",
      "[nltk_data]     C:\\Users\\esrussel\\AppData\\Roaming\\nltk_data...\n",
      "[nltk_data]   Package wordnet is already up-to-date!\n",
      "[nltk_data] Downloading package punkt to\n",
      "[nltk_data]     C:\\Users\\esrussel\\AppData\\Roaming\\nltk_data...\n",
      "[nltk_data]   Package punkt is already up-to-date!\n",
      "[nltk_data] Downloading package stopwords to\n",
      "[nltk_data]     C:\\Users\\esrussel\\AppData\\Roaming\\nltk_data...\n",
      "[nltk_data]   Package stopwords is already up-to-date!\n",
      "[nltk_data] Downloading package wordnet to\n",
      "[nltk_data]     C:\\Users\\esrussel\\AppData\\Roaming\\nltk_data...\n",
      "[nltk_data]   Package wordnet is already up-to-date!\n"
     ]
    },
    {
     "data": {
      "text/plain": [
       "True"
      ]
     },
     "execution_count": 19,
     "metadata": {},
     "output_type": "execute_result"
    }
   ],
   "source": [
    "#import necessary libraries\n",
    "import nltk\n",
    "nltk.download('punkt_tab')\n",
    "nltk.download('stopwords')\n",
    "nltk.download('wordnet')\n",
    "\n",
    "import numpy as np\n",
    "import pandas as pd\n",
    "import matplotlib.pyplot as plt\n",
    "import seaborn as sns\n",
    "import warnings\n",
    "warnings.filterwarnings('ignore')\n",
    "\n",
    "from nltk.corpus import stopwords\n",
    "from nltk.tokenize import word_tokenize\n",
    "from nltk.stem import WordNetLemmatizer\n",
    "from textblob import TextBlob\n",
    "import contractions\n",
    "import emoji\n",
    "import re\n",
    "import random\n",
    "\n",
    "from sklearn.preprocessing import LabelEncoder\n",
    "from sklearn.model_selection import train_test_split\n",
    "from sklearn.ensemble import RandomForestClassifier,ExtraTreesClassifier\n",
    "from sklearn.linear_model import LogisticRegression\n",
    "from sklearn.svm import SVC\n",
    "from sklearn.feature_extraction.text import TfidfVectorizer\n",
    "from sklearn.metrics import accuracy_score, confusion_matrix, classification_report\n",
    "\n",
    "nltk.download('punkt')\n",
    "nltk.download('stopwords')\n",
    "nltk.download('wordnet')"
   ]
  },
  {
   "cell_type": "code",
   "execution_count": 20,
   "id": "57367b66",
   "metadata": {},
   "outputs": [
    {
     "name": "stdout",
     "output_type": "stream",
     "text": [
      "Performance Class Report:\n",
      "              precision    recall  f1-score   support\n",
      "\n",
      "           0       0.81      0.83      0.82        36\n",
      "           1       0.79      0.75      0.77        40\n",
      "           2       0.80      0.82      0.81        40\n",
      "\n",
      "    accuracy                           0.80       116\n",
      "   macro avg       0.80      0.80      0.80       116\n",
      "weighted avg       0.80      0.80      0.80       116\n",
      "\n",
      "Potential Class Report:\n",
      "              precision    recall  f1-score   support\n",
      "\n",
      "           0       0.63      0.62      0.63        42\n",
      "           1       0.67      0.71      0.69        42\n",
      "           2       0.73      0.69      0.71        32\n",
      "\n",
      "    accuracy                           0.67       116\n",
      "   macro avg       0.68      0.67      0.68       116\n",
      "weighted avg       0.67      0.67      0.67       116\n",
      "\n"
     ]
    }
   ],
   "source": [
    "# Load datasets\n",
    "train_df = pd.read_csv('train_set.csv')\n",
    "val_df = pd.read_csv('validation_set.csv')\n",
    "test_df = pd.read_csv('test_set.csv')\n",
    "\n",
    "# Set index\n",
    "train_df.set_index('id', inplace=True)\n",
    "val_df.set_index('id', inplace=True)\n",
    "test_df.set_index('id', inplace=True)\n",
    "\n",
    "# Drop unwanted columns - not needed as we call our features and target variables specifically\n",
    "#columns_to_drop = [\n",
    "#    'person_name', 'nine_box_category', 'adjusted',\n",
    "#    'reviewed', 'label', 'feedback_clean', 'data_type'\n",
    "#]\n",
    "\n",
    "#for df in [train_df, val_df, test_df]:\n",
    "#    df.drop(columns=columns_to_drop, inplace=True)\n",
    "\n",
    "# Define text preprocessing function, we remove stopwords, lemmatize, and edit contractions/delimiters\n",
    "def preprocess_text(text):\n",
    "    text = str(text).lower()\n",
    "    text = re.sub(r'<.*?>', '', text)\n",
    "    text = re.sub(r'@\\w+', '', text)\n",
    "    text = emoji.demojize(text, delimiters=(\" \", \" \"))\n",
    "    text = contractions.fix(text)\n",
    "    text = re.sub(r'\\s+', ' ', text).strip()\n",
    "    \n",
    "    tokens = word_tokenize(text)\n",
    "    negations = {\"not\", \"no\", \"nor\", \"never\"}\n",
    "    stop_words = set(stopwords.words('english')) - negations\n",
    "    tokens = [word for word in tokens if word not in stop_words]\n",
    "\n",
    "    lemmatizer = WordNetLemmatizer()\n",
    "    tokens = [lemmatizer.lemmatize(word) for word in tokens]\n",
    "\n",
    "    return ' '.join(tokens)\n",
    "\n",
    "# Preprocess + Add Sentiment Scores using TextBlob to pull polarity and subjectivity\n",
    "for df in [train_df, val_df, test_df]:\n",
    "    df['feedback_processed'] = df['feedback'].apply(preprocess_text)\n",
    "    df['sentiment_polarity'] = df['feedback'].apply(lambda x: TextBlob(str(x)).sentiment.polarity)\n",
    "    df['sentiment_subjectivity'] = df['feedback'].apply(lambda x: TextBlob(str(x)).sentiment.subjectivity)\n",
    "\n",
    "# TF-IDF on preprocessed feedback, we already controlled stopwords above so as to not remove essential negations\n",
    "tfidf = TfidfVectorizer(max_features=1000, stop_words=None)\n",
    "X_train_text = tfidf.fit_transform(train_df['feedback_processed'])\n",
    "X_val_text = tfidf.transform(val_df['feedback_processed'])\n",
    "\n",
    "# Add sentiment features\n",
    "X_train = np.hstack([\n",
    "    X_train_text.toarray(),\n",
    "    train_df[['sentiment_polarity', 'sentiment_subjectivity']].values\n",
    "])\n",
    "X_val = np.hstack([\n",
    "    X_val_text.toarray(),\n",
    "    val_df[['sentiment_polarity', 'sentiment_subjectivity']].values\n",
    "])\n",
    "\n",
    "# Labels\n",
    "y_train_perf = train_df['performance_class']\n",
    "y_val_perf = val_df['performance_class']\n",
    "y_train_pot = train_df['potential_class']\n",
    "y_val_pot = val_df['potential_class']\n",
    "\n",
    "# Using logistic regression, model for performance_class and potential_class\n",
    "model_perf = LogisticRegression(max_iter=1000)\n",
    "model_perf.fit(X_train, y_train_perf)\n",
    "y_pred_val_perf = model_perf.predict(X_val)\n",
    "print(\"Performance Class Report:\")\n",
    "print(classification_report(y_val_perf, y_pred_val_perf))\n",
    "\n",
    "model_pot = LogisticRegression(max_iter=1000)\n",
    "model_pot.fit(X_train, y_train_pot)\n",
    "y_pred_val_pot = model_pot.predict(X_val)\n",
    "print(\"Potential Class Report:\")\n",
    "print(classification_report(y_val_pot, y_pred_val_pot))\n"
   ]
  },
  {
   "cell_type": "markdown",
   "id": "10fededa",
   "metadata": {},
   "source": [
    "# We add RandomForest as a comparison tool against the Logistic Regression above"
   ]
  },
  {
   "cell_type": "code",
   "execution_count": 21,
   "id": "75f6033e",
   "metadata": {},
   "outputs": [
    {
     "name": "stdout",
     "output_type": "stream",
     "text": [
      "Performance Class Report:\n",
      "              precision    recall  f1-score   support\n",
      "\n",
      "           0       0.75      0.67      0.71        36\n",
      "           1       0.64      0.70      0.67        40\n",
      "           2       0.68      0.68      0.68        40\n",
      "\n",
      "    accuracy                           0.68       116\n",
      "   macro avg       0.69      0.68      0.68       116\n",
      "weighted avg       0.68      0.68      0.68       116\n",
      "\n",
      "Potential Class Report:\n",
      "              precision    recall  f1-score   support\n",
      "\n",
      "           0       0.61      0.67      0.64        42\n",
      "           1       0.52      0.60      0.56        42\n",
      "           2       0.55      0.38      0.44        32\n",
      "\n",
      "    accuracy                           0.56       116\n",
      "   macro avg       0.56      0.55      0.55       116\n",
      "weighted avg       0.56      0.56      0.55       116\n",
      "\n"
     ]
    }
   ],
   "source": [
    "# Using random forest, model for performance_class and potential_class\n",
    "rf_perf = RandomForestClassifier(n_estimators=100, random_state=42)\n",
    "rf_perf.fit(X_train, train_df['performance_class'])\n",
    "y_pred_perf = rf_perf.predict(X_val)\n",
    "print(\"Performance Class Report:\")\n",
    "print(classification_report(val_df['performance_class'], y_pred_perf))\n",
    "\n",
    "rf_pot = RandomForestClassifier(n_estimators=100, random_state=42)\n",
    "rf_pot.fit(X_train, train_df['potential_class'])\n",
    "y_pred_pot = rf_pot.predict(X_val)\n",
    "print(\"Potential Class Report:\")\n",
    "print(classification_report(val_df['potential_class'], y_pred_pot))"
   ]
  },
  {
   "cell_type": "markdown",
   "id": "f18b2c2f",
   "metadata": {},
   "source": [
    "# Logistic Regression wins out\n",
    "Logistic Regression is the better model overall for your use case, especially for predicting both Performance and Potential classes with better accuracy, class balance, and easier to explain driving features\n",
    "\n",
    "Random Forest can be worth improving if you suspect non-linear patterns are being missed — but needs tuning to yield greater scores (e.g., max depth, number of trees)."
   ]
  },
  {
   "cell_type": "code",
   "execution_count": 22,
   "id": "0ee40bda",
   "metadata": {},
   "outputs": [
    {
     "data": {
      "image/png": "[encoded data removed]",
      "text/plain": [
       "<Figure size 1080x576 with 2 Axes>"
      ]
     },
     "metadata": {
      "needs_background": "light"
     },
     "output_type": "display_data"
    }
   ],
   "source": [
    "# Create combined feature names\n",
    "feature_names = tfidf.get_feature_names_out().tolist() + ['sentiment_polarity', 'sentiment_subjectivity']\n",
    "\n",
    "# Get coefficients\n",
    "coefs_perf = model_perf.coef_[0]  # If it's one-vs-rest, choose [0] or loop\n",
    "coefs_pot = model_pot.coef_[0]\n",
    "\n",
    "# Build DataFrames\n",
    "feat_df_perf = pd.DataFrame({'feature': feature_names, 'coefficient': coefs_perf})\n",
    "feat_df_pot = pd.DataFrame({'feature': feature_names, 'coefficient': coefs_pot})\n",
    "\n",
    "# Sort by absolute value of coefficients\n",
    "top_perf = feat_df_perf.reindex(feat_df_perf.coefficient.abs().sort_values(ascending=False).index).head(20)\n",
    "top_pot = feat_df_pot.reindex(feat_df_pot.coefficient.abs().sort_values(ascending=False).index).head(20)\n",
    "\n",
    "# Plot side-by-side\n",
    "fig, axes = plt.subplots(1, 2, figsize=(15, 8), sharey=True)\n",
    "\n",
    "sns.barplot(x='coefficient', y='feature', data=top_perf, palette='coolwarm', ax=axes[0])\n",
    "axes[0].set_title(\"Top Features - Performance Class\")\n",
    "\n",
    "sns.barplot(x='coefficient', y='feature', data=top_pot, palette='coolwarm', ax=axes[1])\n",
    "axes[1].set_title(\"Top Features - Potential Class\")\n",
    "\n",
    "plt.tight_layout()\n",
    "plt.show()\n"
   ]
  },
  {
   "cell_type": "markdown",
   "id": "d4ef0484",
   "metadata": {},
   "source": [
    "# Below we show the score predictability of true against real values"
   ]
  },
  {
   "cell_type": "code",
   "execution_count": 23,
   "id": "81c12965",
   "metadata": {},
   "outputs": [
    {
     "data": {
      "image/png": "[encoded data removed]",
      "text/plain": [
       "<Figure size 720x576 with 2 Axes>"
      ]
     },
     "metadata": {
      "needs_background": "light"
     },
     "output_type": "display_data"
    }
   ],
   "source": [
    "# Convert tuples to strings for scikit-learn compatibility\n",
    "true_combo = [f\"{p}-{q}\" for p, q in zip(y_val_perf, y_val_pot)]\n",
    "pred_combo = [f\"{p}-{q}\" for p, q in zip(y_pred_val_perf, y_pred_val_pot)]\n",
    "\n",
    "# Get unique combined labels (sorted for consistent axis order)\n",
    "unique_labels = sorted(set(true_combo + pred_combo))\n",
    "\n",
    "# Confusion Matrix\n",
    "cm_combo = confusion_matrix(true_combo, pred_combo, labels=unique_labels)\n",
    "\n",
    "# Plot\n",
    "plt.figure(figsize=(10, 8))\n",
    "sns.heatmap(cm_combo, annot=True, fmt=\"d\", cmap='Purples',\n",
    "            xticklabels=unique_labels, yticklabels=unique_labels)\n",
    "plt.xlabel(\"Predicted (Perf-Pot)\")\n",
    "plt.ylabel(\"True (Perf-Pot)\")\n",
    "plt.title(\"Confusion Matrix - Combined Performance & Potential\")\n",
    "plt.tight_layout()\n",
    "plt.show()\n"
   ]
  },
  {
   "cell_type": "code",
   "execution_count": 24,
   "id": "586f4eb4",
   "metadata": {},
   "outputs": [
    {
     "name": "stdout",
     "output_type": "stream",
     "text": [
      "📋 Raw Feedback:\n",
      "Finley Gray has been an asset to our company as he always completes tasks as assigned to him.  As soon as Mr Gray gets to work he begins his day, he is never idle.  Finley works until his job is complete and is proud of his results. Finley is detail oriented and also makes sure his assignments are completed perfectly.\n",
      "\n",
      "🔮 Predicted Performance Class: 2, Real Performance Class: 2\n",
      "🔮 Predicted Potential Class:    1, Real Potential Class: 1\n"
     ]
    }
   ],
   "source": [
    "# Pick an example row from the validation set\n",
    "random.seed(42)\n",
    "idx = random.randint(0, len(val_df) - 1)\n",
    "\n",
    "# Get feedback and predictions\n",
    "feedback_text = val_df.iloc[idx]['feedback']\n",
    "processed_text = val_df.iloc[idx]['feedback_processed']\n",
    "pred_perf = y_pred_val_perf[idx]\n",
    "pred_pot = y_pred_val_pot[idx]\n",
    "\n",
    "# Map positional idx to actual index label\n",
    "actual_index = val_df.index[idx]\n",
    "real_perf = y_val_perf.loc[actual_index]\n",
    "real_pot = y_val_pot.loc[actual_index]\n",
    "\n",
    "print(\"📋 Raw Feedback:\")\n",
    "print(feedback_text)\n",
    "print(f\"\\n🔮 Predicted Performance Class: {pred_perf}, Real Performance Class: {real_perf}\")\n",
    "print(f\"🔮 Predicted Potential Class:    {pred_pot}, Real Potential Class: {real_pot}\")\n"
   ]
  }
 ],
 "metadata": {
  "kernelspec": {
   "display_name": "Python 3 (ipykernel)",
   "language": "python",
   "name": "python3"
  },
  "language_info": {
   "codemirror_mode": {
    "name": "ipython",
    "version": 3
   },
   "file_extension": ".py",
   "mimetype": "text/x-python",
   "name": "python",
   "nbconvert_exporter": "python",
   "pygments_lexer": "ipython3",
   "version": "3.9.7"
  }
 },
 "nbformat": 4,
 "nbformat_minor": 5
}
